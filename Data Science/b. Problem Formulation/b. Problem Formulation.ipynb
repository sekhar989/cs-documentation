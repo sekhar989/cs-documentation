{
 "cells": [
  {
   "cell_type": "markdown",
   "id": "1aa516e8",
   "metadata": {},
   "source": [
    "# Data Variables\n",
    "\n",
    "- Input Variables (Attributes/Predictors/Features/Independent Variables) $\\rightarrow X$ \n",
    "- Output Variables (Labels/Response Variables/Dependent Variables) $\\rightarrow Y$\n",
    "  \n",
    "**Variables:**\n",
    "- Quantitative (or Numeric) *e.g. a person’s age, height, or income, the value of a house, and the price of a stock.*\n",
    "- Qualitative (or Categorical) *a person’s gender (male or female), the brand of a product (brand A, B, or C), whether a person defaults on a debt (yes or no).*"
   ]
  },
  {
   "cell_type": "markdown",
   "id": "d6f09f24",
   "metadata": {},
   "source": [
    "## Desiderata (Requirements) for learning algorithms\n",
    "- Predictive efficiency: e.g., how small is a typical test MSE?\n",
    "- Computational efficiency and scalability $\\text{Big-}O$ Notation. Two main aspects:\n",
    "   - time\n",
    "   - space\n",
    "- Interpretability"
   ]
  },
  {
   "cell_type": "markdown",
   "id": "876ffe2d",
   "metadata": {},
   "source": [
    "## Problem Formulation Type\n",
    "\n",
    "- **Regression** $\\rightarrow$ Problems with a **quantitative label (output)**\n",
    "- **Classification** $\\rightarrow$ Problems with a **qualitative label (output)**  \n",
    "\n",
    "More generally, suppose that we observe a quantitative label $Y$, and $p$ different attributes, $X_1, X_2, \\dots , X_p$. We assume that there is a relationship between $Y$ and $X = (X_1, X_2, \\dots , X_p)$, which, in the case of regression, can be written in the very general form:  \n",
    "\n",
    "$$\n",
    "\\begin{equation}\n",
    "Y = f(X) + \\epsilon\n",
    "\\end{equation}\n",
    "$$  \n",
    "\n",
    "\n",
    "Here $f$ is some fixed but unknown function of $X_1, X_2, \\dots , X_p$ and $\\epsilon$ is a random error term, which is independent of $X$ and has mean $0.$ There are similar assumptions in the case of classification problems: a function $f(X)$ is distorted by random noise."
   ]
  }
 ],
 "metadata": {
  "kernelspec": {
   "display_name": "Python 3 (ipykernel)",
   "language": "python",
   "name": "python3"
  },
  "language_info": {
   "codemirror_mode": {
    "name": "ipython",
    "version": 3
   },
   "file_extension": ".py",
   "mimetype": "text/x-python",
   "name": "python",
   "nbconvert_exporter": "python",
   "pygments_lexer": "ipython3",
   "version": "3.11.5"
  }
 },
 "nbformat": 4,
 "nbformat_minor": 5
}
